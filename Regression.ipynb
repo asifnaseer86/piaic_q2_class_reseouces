{
  "nbformat": 4,
  "nbformat_minor": 0,
  "metadata": {
    "colab": {
      "name": "Regression.ipynb",
      "provenance": [],
      "toc_visible": true,
      "include_colab_link": true
    },
    "kernelspec": {
      "name": "python3",
      "display_name": "Python 3"
    }
  },
  "cells": [
    {
      "cell_type": "markdown",
      "metadata": {
        "id": "view-in-github",
        "colab_type": "text"
      },
      "source": [
        "<a href=\"https://colab.research.google.com/github/asifnaseer86/piaic_q2_class_reseouces/blob/master/Regression.ipynb\" target=\"_parent\"><img src=\"https://colab.research.google.com/assets/colab-badge.svg\" alt=\"Open In Colab\"/></a>"
      ]
    },
    {
      "cell_type": "code",
      "metadata": {
        "id": "HNmzf2GzSeeK"
      },
      "source": [
        "\r\n",
        "from tensorflow.keras.models import Sequential\r\n",
        "from tensorflow.keras.layers import Dense \r\n",
        "from tensorflow.keras.optimizers import Adam, SGD\r\n",
        "\r\n",
        "%matplotlib inline\r\n",
        "import matplotlib.pyplot as plt\r\n",
        "import numpy as np\r\n",
        "import pandas as pd"
      ],
      "execution_count": null,
      "outputs": []
    },
    {
      "cell_type": "code",
      "metadata": {
        "id": "FLCWxHY4ShoY"
      },
      "source": [
        "df=pd.read_csv('weight-height.csv')"
      ],
      "execution_count": null,
      "outputs": []
    },
    {
      "cell_type": "code",
      "metadata": {
        "id": "ZOTcIT22h0WU"
      },
      "source": [
        "from google.colab import drive\n",
        "drive.mount('/content/drive')"
      ],
      "execution_count": null,
      "outputs": []
    },
    {
      "cell_type": "code",
      "metadata": {
        "id": "K1E8-sUgS1Fy"
      },
      "source": [
        "X=df[['Height']].values\r\n",
        "y_true=df[['Weight']].values"
      ],
      "execution_count": null,
      "outputs": []
    },
    {
      "cell_type": "code",
      "metadata": {
        "colab": {
          "base_uri": "https://localhost:8080/"
        },
        "id": "XLeYJGpqS4_k",
        "outputId": "0fe22285-62e3-4975-cb62-4f5edfc63f61"
      },
      "source": [
        "\r\n",
        "X"
      ],
      "execution_count": null,
      "outputs": [
        {
          "output_type": "execute_result",
          "data": {
            "text/plain": [
              "array([[73.84701702],\n",
              "       [68.78190405],\n",
              "       [74.11010539],\n",
              "       ...,\n",
              "       [63.86799221],\n",
              "       [69.03424313],\n",
              "       [61.94424588]])"
            ]
          },
          "metadata": {
            "tags": []
          },
          "execution_count": 6
        }
      ]
    },
    {
      "cell_type": "code",
      "metadata": {
        "id": "Xis0djpSS-Cr"
      },
      "source": [
        "model = Sequential()\r\n",
        "model.add(Dense(1, input_shape=(1,)))"
      ],
      "execution_count": null,
      "outputs": []
    },
    {
      "cell_type": "code",
      "metadata": {
        "colab": {
          "base_uri": "https://localhost:8080/"
        },
        "id": "c8TsEoXYTHRx",
        "outputId": "73164707-8ec9-489e-f7cf-451945d0dbb9"
      },
      "source": [
        "model.summary()"
      ],
      "execution_count": null,
      "outputs": [
        {
          "output_type": "stream",
          "text": [
            "Model: \"sequential_3\"\n",
            "_________________________________________________________________\n",
            "Layer (type)                 Output Shape              Param #   \n",
            "=================================================================\n",
            "dense_3 (Dense)              (None, 1)                 2         \n",
            "=================================================================\n",
            "Total params: 2\n",
            "Trainable params: 2\n",
            "Non-trainable params: 0\n",
            "_________________________________________________________________\n"
          ],
          "name": "stdout"
        }
      ]
    },
    {
      "cell_type": "markdown",
      "metadata": {
        "id": "CfBFQ5zIeOVO"
      },
      "source": [
        ""
      ]
    },
    {
      "cell_type": "code",
      "metadata": {
        "id": "z20A_hwoTJsb"
      },
      "source": [
        "model.compile(Adam(lr=0.8), 'mean_squared_error')"
      ],
      "execution_count": null,
      "outputs": []
    },
    {
      "cell_type": "code",
      "metadata": {
        "colab": {
          "base_uri": "https://localhost:8080/"
        },
        "id": "RYNnC2sCTVJy",
        "outputId": "4f247e74-01aa-4196-a6cc-230f2d338f01"
      },
      "source": [
        "model.fit(X,y_true, epochs=50)"
      ],
      "execution_count": null,
      "outputs": [
        {
          "output_type": "stream",
          "text": [
            "Epoch 1/50\n",
            "313/313 [==============================] - 0s 720us/step - loss: 1496.2268\n",
            "Epoch 2/50\n",
            "313/313 [==============================] - 0s 736us/step - loss: 551.4876\n",
            "Epoch 3/50\n",
            "313/313 [==============================] - 0s 715us/step - loss: 523.6701\n",
            "Epoch 4/50\n",
            "313/313 [==============================] - 0s 745us/step - loss: 442.9348\n",
            "Epoch 5/50\n",
            "313/313 [==============================] - 0s 717us/step - loss: 428.3605\n",
            "Epoch 6/50\n",
            "313/313 [==============================] - 0s 752us/step - loss: 380.6747\n",
            "Epoch 7/50\n",
            "313/313 [==============================] - 0s 706us/step - loss: 339.1450\n",
            "Epoch 8/50\n",
            "313/313 [==============================] - 0s 780us/step - loss: 302.0403\n",
            "Epoch 9/50\n",
            "313/313 [==============================] - 0s 792us/step - loss: 276.5299\n",
            "Epoch 10/50\n",
            "313/313 [==============================] - 0s 783us/step - loss: 263.1520\n",
            "Epoch 11/50\n",
            "313/313 [==============================] - 0s 751us/step - loss: 247.3816\n",
            "Epoch 12/50\n",
            "313/313 [==============================] - 0s 776us/step - loss: 223.0750\n",
            "Epoch 13/50\n",
            "313/313 [==============================] - 0s 778us/step - loss: 220.8767\n",
            "Epoch 14/50\n",
            "313/313 [==============================] - 0s 771us/step - loss: 194.5431\n",
            "Epoch 15/50\n",
            "313/313 [==============================] - 0s 757us/step - loss: 188.9754\n",
            "Epoch 16/50\n",
            "313/313 [==============================] - 0s 737us/step - loss: 193.8590\n",
            "Epoch 17/50\n",
            "313/313 [==============================] - 0s 794us/step - loss: 178.4006\n",
            "Epoch 18/50\n",
            "313/313 [==============================] - 0s 724us/step - loss: 182.7289\n",
            "Epoch 19/50\n",
            "313/313 [==============================] - 0s 763us/step - loss: 185.1574\n",
            "Epoch 20/50\n",
            "313/313 [==============================] - 0s 799us/step - loss: 183.2277\n",
            "Epoch 21/50\n",
            "313/313 [==============================] - 0s 847us/step - loss: 171.7184\n",
            "Epoch 22/50\n",
            "313/313 [==============================] - 0s 768us/step - loss: 187.8298\n",
            "Epoch 23/50\n",
            "313/313 [==============================] - 0s 765us/step - loss: 178.8322\n",
            "Epoch 24/50\n",
            "313/313 [==============================] - 0s 770us/step - loss: 190.6746\n",
            "Epoch 25/50\n",
            "313/313 [==============================] - 0s 832us/step - loss: 181.7923\n",
            "Epoch 26/50\n",
            "313/313 [==============================] - 0s 800us/step - loss: 174.7423\n",
            "Epoch 27/50\n",
            "313/313 [==============================] - 0s 808us/step - loss: 186.2926\n",
            "Epoch 28/50\n",
            "313/313 [==============================] - 0s 780us/step - loss: 174.2618\n",
            "Epoch 29/50\n",
            "313/313 [==============================] - 0s 850us/step - loss: 181.5475\n",
            "Epoch 30/50\n",
            "313/313 [==============================] - 0s 795us/step - loss: 170.1046\n",
            "Epoch 31/50\n",
            "313/313 [==============================] - 0s 729us/step - loss: 164.8497\n",
            "Epoch 32/50\n",
            "313/313 [==============================] - 0s 535us/step - loss: 181.9726\n",
            "Epoch 33/50\n",
            "313/313 [==============================] - 0s 703us/step - loss: 165.3284\n",
            "Epoch 34/50\n",
            "313/313 [==============================] - 0s 552us/step - loss: 171.4731\n",
            "Epoch 35/50\n",
            "313/313 [==============================] - 0s 531us/step - loss: 175.1205\n",
            "Epoch 36/50\n",
            "313/313 [==============================] - 0s 705us/step - loss: 179.5559\n",
            "Epoch 37/50\n",
            "313/313 [==============================] - 0s 807us/step - loss: 168.1802\n",
            "Epoch 38/50\n",
            "313/313 [==============================] - 0s 782us/step - loss: 168.0646\n",
            "Epoch 39/50\n",
            "313/313 [==============================] - 0s 790us/step - loss: 181.7904\n",
            "Epoch 40/50\n",
            "313/313 [==============================] - 0s 798us/step - loss: 180.7424\n",
            "Epoch 41/50\n",
            "313/313 [==============================] - 0s 786us/step - loss: 177.1369\n",
            "Epoch 42/50\n",
            "313/313 [==============================] - 0s 790us/step - loss: 171.7549\n",
            "Epoch 43/50\n",
            "313/313 [==============================] - 0s 806us/step - loss: 183.4566\n",
            "Epoch 44/50\n",
            "313/313 [==============================] - 0s 769us/step - loss: 178.4902\n",
            "Epoch 45/50\n",
            "313/313 [==============================] - 0s 798us/step - loss: 183.9772\n",
            "Epoch 46/50\n",
            "313/313 [==============================] - 0s 791us/step - loss: 181.4236\n",
            "Epoch 47/50\n",
            "313/313 [==============================] - 0s 768us/step - loss: 174.9128\n",
            "Epoch 48/50\n",
            "313/313 [==============================] - 0s 819us/step - loss: 179.7177\n",
            "Epoch 49/50\n",
            "313/313 [==============================] - 0s 793us/step - loss: 193.4229\n",
            "Epoch 50/50\n",
            "313/313 [==============================] - 0s 775us/step - loss: 176.3831\n"
          ],
          "name": "stdout"
        },
        {
          "output_type": "execute_result",
          "data": {
            "text/plain": [
              "<tensorflow.python.keras.callbacks.History at 0x7f4d6973f6a0>"
            ]
          },
          "metadata": {
            "tags": []
          },
          "execution_count": 29
        }
      ]
    },
    {
      "cell_type": "code",
      "metadata": {
        "id": "W_DhOMs6Tevy"
      },
      "source": [
        "y_pred=model.predict(X)"
      ],
      "execution_count": null,
      "outputs": []
    },
    {
      "cell_type": "code",
      "metadata": {
        "colab": {
          "base_uri": "https://localhost:8080/"
        },
        "id": "vQMx33S0T2n1",
        "outputId": "50912b74-551f-4bf1-9e54-7bd91e51bb3d"
      },
      "source": [
        "len(y_pred)"
      ],
      "execution_count": null,
      "outputs": [
        {
          "output_type": "execute_result",
          "data": {
            "text/plain": [
              "10000"
            ]
          },
          "metadata": {
            "tags": []
          },
          "execution_count": 31
        }
      ]
    },
    {
      "cell_type": "code",
      "metadata": {
        "colab": {
          "base_uri": "https://localhost:8080/",
          "height": 312
        },
        "id": "7AD1CfHUT4GP",
        "outputId": "81cfa4dd-58d8-48c7-85d9-d14fc9fbe257"
      },
      "source": [
        "df.plot(kind='scatter',\r\n",
        "       x='Height',\r\n",
        "       y='Weight', title='Weight and Height in adults')\r\n",
        "plt.plot(X, y_pred, color='red', linewidth=3)"
      ],
      "execution_count": null,
      "outputs": [
        {
          "output_type": "execute_result",
          "data": {
            "text/plain": [
              "[<matplotlib.lines.Line2D at 0x7f4d68e8d320>]"
            ]
          },
          "metadata": {
            "tags": []
          },
          "execution_count": 32
        },
        {
          "output_type": "display_data",
          "data": {
            "image/png": "[encoded data removed]",
            "text/plain": [
              "<Figure size 432x288 with 1 Axes>"
            ]
          },
          "metadata": {
            "tags": [],
            "needs_background": "light"
          }
        }
      ]
    },
    {
      "cell_type": "code",
      "metadata": {
        "id": "ZUp0RHbIUCM_"
      },
      "source": [
        "w,b=model.get_weights()"
      ],
      "execution_count": null,
      "outputs": []
    },
    {
      "cell_type": "code",
      "metadata": {
        "colab": {
          "base_uri": "https://localhost:8080/"
        },
        "id": "ShiX108wVGpc",
        "outputId": "210317b3-66df-464e-dfd3-b641f92b7687"
      },
      "source": [
        "w,b"
      ],
      "execution_count": null,
      "outputs": [
        {
          "output_type": "execute_result",
          "data": {
            "text/plain": [
              "(array([[7.7561345]], dtype=float32), array([-350.2891], dtype=float32))"
            ]
          },
          "metadata": {
            "tags": []
          },
          "execution_count": 34
        }
      ]
    },
    {
      "cell_type": "code",
      "metadata": {
        "id": "_4YYDfiFVIMS"
      },
      "source": [
        ""
      ],
      "execution_count": null,
      "outputs": []
    }
  ]
}